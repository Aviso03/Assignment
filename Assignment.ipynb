{
 "cells": [
  {
   "cell_type": "markdown",
   "id": "87723ef1",
   "metadata": {},
   "source": [
    "# Peer Assignment"
   ]
  },
  {
   "cell_type": "markdown",
   "id": "521b25da",
   "metadata": {},
   "source": [
    "## Introduction"
   ]
  },
  {
   "cell_type": "markdown",
   "id": "38b74efe",
   "metadata": {},
   "source": [
    "### Data Science Languages\n",
    "- Python\n",
    "- R\n",
    "- SQL\n",
    "- Julia\n"
   ]
  },
  {
   "cell_type": "markdown",
   "id": "41b1ed09",
   "metadata": {},
   "source": [
    "### Data Science Libraries\n",
    "- NumPy\n",
    "- Pandas\n",
    "- Matplotlib\n",
    "- Scikit-learn\n",
    "- TensorFlow\n",
    "- Keras\n",
    "- PyTorch\n",
    "- SciPy\n",
    "- Seaborn\n",
    "- Plotly\n"
   ]
  },
  {
   "cell_type": "markdown",
   "id": "ce860326",
   "metadata": {},
   "source": [
    "### Table of Data Science Tools\n",
    "\n",
    "| Tool          | Description                               |\n",
    "| ------------- | ----------------------------------------- |\n",
    "| Jupyter Notebook | Web-based interactive computing environment |\n",
    "| RStudio       | Integrated development environment for R   |\n",
    "| GitHub        | Web-based version control and collaboration platform |\n",
    "| Visual Studio Code | Source code editor developed by Microsoft |\n",
    "| Google Colab  | Free cloud-based Jupyter notebook environment |\n"
   ]
  },
  {
   "cell_type": "markdown",
   "id": "64cc943f",
   "metadata": {},
   "source": [
    "### Arithmetic Expression Examples\n"
   ]
  },
  {
   "cell_type": "code",
   "execution_count": 2,
   "id": "9e65c0c7",
   "metadata": {},
   "outputs": [
    {
     "name": "stdout",
     "output_type": "stream",
     "text": [
      "The result is: 17\n"
     ]
    }
   ],
   "source": [
    "# Multiply and add numbers\n",
    "a = 5\n",
    "b = 3\n",
    "result = a * b + 2\n",
    "print(\"The result is:\", result)\n"
   ]
  },
  {
   "cell_type": "code",
   "execution_count": 3,
   "id": "55a0cf02",
   "metadata": {},
   "outputs": [
    {
     "name": "stdout",
     "output_type": "stream",
     "text": [
      "3.0 hours\n"
     ]
    }
   ],
   "source": [
    "# Convert minutes to hours\n",
    "minutes = 180\n",
    "hours = minutes / 60\n",
    "print(hours, \"hours\")\n"
   ]
  },
  {
   "cell_type": "markdown",
   "id": "48fb5cd2",
   "metadata": {},
   "source": [
    "### Objectives\n",
    "- Learn about data science languages\n",
    "- Understand data science libraries\n",
    "- Perform basic arithmetic operations in Python\n"
   ]
  },
  {
   "cell_type": "markdown",
   "id": "bba11e47",
   "metadata": {},
   "source": [
    "### Author\n",
    "[Rohan Sutradhar]\n"
   ]
  },
  {
   "cell_type": "code",
   "execution_count": null,
   "id": "870d8942",
   "metadata": {},
   "outputs": [],
   "source": []
  }
 ],
 "metadata": {
  "kernelspec": {
   "display_name": "Python 3 (ipykernel)",
   "language": "python",
   "name": "python3"
  },
  "language_info": {
   "codemirror_mode": {
    "name": "ipython",
    "version": 3
   },
   "file_extension": ".py",
   "mimetype": "text/x-python",
   "name": "python",
   "nbconvert_exporter": "python",
   "pygments_lexer": "ipython3",
   "version": "3.11.5"
  }
 },
 "nbformat": 4,
 "nbformat_minor": 5
}
